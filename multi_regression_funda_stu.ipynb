{
 "cells": [
  {
   "cell_type": "markdown",
   "metadata": {},
   "source": [
    "# Multiple lineair regression #\n",
    "\n",
    "Let's create a model with more than 1 independent variable."
   ]
  },
  {
   "cell_type": "code",
   "execution_count": 1,
   "metadata": {},
   "outputs": [],
   "source": [
    "import seaborn as sns\n",
    "import sklearn as sk\n",
    "import pandas as pd\n",
    "import matplotlib.pyplot as plt\n",
    "import math\n",
    "from sklearn.linear_model import LinearRegression #remember, this is linear regression model from sk-learn\n",
    "from sklearn.model_selection import train_test_split #this is the function we need to split the data\n",
    "from sklearn.metrics import mean_squared_error\n",
    "from sklearn.metrics import r2_score"
   ]
  },
  {
   "cell_type": "code",
   "execution_count": 2,
   "metadata": {},
   "outputs": [
    {
     "data": {
      "text/html": [
       "<div>\n",
       "<style scoped>\n",
       "    .dataframe tbody tr th:only-of-type {\n",
       "        vertical-align: middle;\n",
       "    }\n",
       "\n",
       "    .dataframe tbody tr th {\n",
       "        vertical-align: top;\n",
       "    }\n",
       "\n",
       "    .dataframe thead th {\n",
       "        text-align: right;\n",
       "    }\n",
       "</style>\n",
       "<table border=\"1\" class=\"dataframe\">\n",
       "  <thead>\n",
       "    <tr style=\"text-align: right;\">\n",
       "      <th></th>\n",
       "      <th>id</th>\n",
       "      <th>address</th>\n",
       "      <th>area</th>\n",
       "      <th>bedrooms</th>\n",
       "      <th>postal_code</th>\n",
       "      <th>posting_date</th>\n",
       "      <th>price</th>\n",
       "      <th>property_type</th>\n",
       "      <th>rooms</th>\n",
       "      <th>sale_date</th>\n",
       "      <th>url</th>\n",
       "      <th>year_built</th>\n",
       "    </tr>\n",
       "  </thead>\n",
       "  <tbody>\n",
       "    <tr>\n",
       "      <th>0</th>\n",
       "      <td>0</td>\n",
       "      <td>Knollendamstraat 4 III/IV</td>\n",
       "      <td>108</td>\n",
       "      <td>2</td>\n",
       "      <td>1013 TN</td>\n",
       "      <td>4-6-2016</td>\n",
       "      <td>510000</td>\n",
       "      <td>apartment</td>\n",
       "      <td>3</td>\n",
       "      <td>23-6-2016</td>\n",
       "      <td>http://www.funda.nl/koop/verkocht/amsterdam/ap...</td>\n",
       "      <td>1906</td>\n",
       "    </tr>\n",
       "    <tr>\n",
       "      <th>1</th>\n",
       "      <td>1</td>\n",
       "      <td>Moerdijkstraat 47 1</td>\n",
       "      <td>47</td>\n",
       "      <td>1</td>\n",
       "      <td>1079 XM</td>\n",
       "      <td>22-6-2016</td>\n",
       "      <td>215000</td>\n",
       "      <td>apartment</td>\n",
       "      <td>2</td>\n",
       "      <td>5-7-2016</td>\n",
       "      <td>http://www.funda.nl/koop/verkocht/amsterdam/ap...</td>\n",
       "      <td>1938</td>\n",
       "    </tr>\n",
       "    <tr>\n",
       "      <th>2</th>\n",
       "      <td>2</td>\n",
       "      <td>Zeeburgerdijk 349</td>\n",
       "      <td>116</td>\n",
       "      <td>2</td>\n",
       "      <td>1095 AD</td>\n",
       "      <td>9-6-2016</td>\n",
       "      <td>325000</td>\n",
       "      <td>apartment</td>\n",
       "      <td>3</td>\n",
       "      <td>8-7-2016</td>\n",
       "      <td>http://www.funda.nl/koop/verkocht/amsterdam/ap...</td>\n",
       "      <td>2003</td>\n",
       "    </tr>\n",
       "    <tr>\n",
       "      <th>3</th>\n",
       "      <td>3</td>\n",
       "      <td>Brederodestraat 124 -1</td>\n",
       "      <td>58</td>\n",
       "      <td>2</td>\n",
       "      <td>1054 VH</td>\n",
       "      <td>14-5-2016</td>\n",
       "      <td>315000</td>\n",
       "      <td>apartment</td>\n",
       "      <td>3</td>\n",
       "      <td>2-6-2016</td>\n",
       "      <td>http://www.funda.nl/koop/verkocht/amsterdam/ap...</td>\n",
       "      <td>1910</td>\n",
       "    </tr>\n",
       "    <tr>\n",
       "      <th>4</th>\n",
       "      <td>4</td>\n",
       "      <td>Admiraal De Ruijterweg 409 III</td>\n",
       "      <td>63</td>\n",
       "      <td>1</td>\n",
       "      <td>1055 MD</td>\n",
       "      <td>14-6-2016</td>\n",
       "      <td>200000</td>\n",
       "      <td>apartment</td>\n",
       "      <td>3</td>\n",
       "      <td>23-6-2016</td>\n",
       "      <td>http://www.funda.nl/koop/verkocht/amsterdam/ap...</td>\n",
       "      <td>1906</td>\n",
       "    </tr>\n",
       "  </tbody>\n",
       "</table>\n",
       "</div>"
      ],
      "text/plain": [
       "   id                         address  area  bedrooms postal_code  \\\n",
       "0   0       Knollendamstraat 4 III/IV   108         2     1013 TN   \n",
       "1   1             Moerdijkstraat 47 1    47         1     1079 XM   \n",
       "2   2               Zeeburgerdijk 349   116         2     1095 AD   \n",
       "3   3          Brederodestraat 124 -1    58         2     1054 VH   \n",
       "4   4  Admiraal De Ruijterweg 409 III    63         1     1055 MD   \n",
       "\n",
       "  posting_date   price property_type  rooms  sale_date  \\\n",
       "0     4-6-2016  510000     apartment      3  23-6-2016   \n",
       "1    22-6-2016  215000     apartment      2   5-7-2016   \n",
       "2     9-6-2016  325000     apartment      3   8-7-2016   \n",
       "3    14-5-2016  315000     apartment      3   2-6-2016   \n",
       "4    14-6-2016  200000     apartment      3  23-6-2016   \n",
       "\n",
       "                                                 url  year_built  \n",
       "0  http://www.funda.nl/koop/verkocht/amsterdam/ap...        1906  \n",
       "1  http://www.funda.nl/koop/verkocht/amsterdam/ap...        1938  \n",
       "2  http://www.funda.nl/koop/verkocht/amsterdam/ap...        2003  \n",
       "3  http://www.funda.nl/koop/verkocht/amsterdam/ap...        1910  \n",
       "4  http://www.funda.nl/koop/verkocht/amsterdam/ap...        1906  "
      ]
     },
     "execution_count": 2,
     "metadata": {},
     "output_type": "execute_result"
    }
   ],
   "source": [
    "df = pd.read_csv('funda.csv')\n",
    "df.head()"
   ]
  },
  {
   "cell_type": "markdown",
   "metadata": {},
   "source": [
    "We need to remove the strange values again, keep only:\n",
    "\n",
    "* Price above 30,000\n",
    "* Area above 10 m2"
   ]
  },
  {
   "cell_type": "code",
   "execution_count": 3,
   "metadata": {},
   "outputs": [],
   "source": [
    "df = df[(df['price'] > 30000) & (df['area'] > 10)] #we want to subset the original dataset, otherwise we lose data"
   ]
  },
  {
   "cell_type": "markdown",
   "metadata": {},
   "source": [
    "## Select variables to include ##"
   ]
  },
  {
   "cell_type": "markdown",
   "metadata": {},
   "source": [
    "1. Create a subset with only: area, price, property_type, year_built"
   ]
  },
  {
   "cell_type": "code",
   "execution_count": 7,
   "metadata": {},
   "outputs": [],
   "source": [
    "df_sub = df[['area', 'price', 'property_type', 'year_built']]\n",
    "            "
   ]
  },
  {
   "cell_type": "markdown",
   "metadata": {},
   "source": [
    "2. property_type is a categorical value. Check the values it contains (levels) and next create dummies for it, since you can only use numerical data."
   ]
  },
  {
   "cell_type": "code",
   "execution_count": 8,
   "metadata": {},
   "outputs": [
    {
     "data": {
      "text/plain": [
       "apartment    9703\n",
       "house        1378\n",
       "Name: property_type, dtype: int64"
      ]
     },
     "execution_count": 8,
     "metadata": {},
     "output_type": "execute_result"
    }
   ],
   "source": [
    "df_sub['property_type'].value_counts()"
   ]
  },
  {
   "cell_type": "code",
   "execution_count": 9,
   "metadata": {},
   "outputs": [
    {
     "data": {
      "text/html": [
       "<div>\n",
       "<style scoped>\n",
       "    .dataframe tbody tr th:only-of-type {\n",
       "        vertical-align: middle;\n",
       "    }\n",
       "\n",
       "    .dataframe tbody tr th {\n",
       "        vertical-align: top;\n",
       "    }\n",
       "\n",
       "    .dataframe thead th {\n",
       "        text-align: right;\n",
       "    }\n",
       "</style>\n",
       "<table border=\"1\" class=\"dataframe\">\n",
       "  <thead>\n",
       "    <tr style=\"text-align: right;\">\n",
       "      <th></th>\n",
       "      <th>area</th>\n",
       "      <th>price</th>\n",
       "      <th>year_built</th>\n",
       "      <th>property_type_house</th>\n",
       "    </tr>\n",
       "  </thead>\n",
       "  <tbody>\n",
       "    <tr>\n",
       "      <th>0</th>\n",
       "      <td>108</td>\n",
       "      <td>510000</td>\n",
       "      <td>1906</td>\n",
       "      <td>0</td>\n",
       "    </tr>\n",
       "    <tr>\n",
       "      <th>1</th>\n",
       "      <td>47</td>\n",
       "      <td>215000</td>\n",
       "      <td>1938</td>\n",
       "      <td>0</td>\n",
       "    </tr>\n",
       "    <tr>\n",
       "      <th>2</th>\n",
       "      <td>116</td>\n",
       "      <td>325000</td>\n",
       "      <td>2003</td>\n",
       "      <td>0</td>\n",
       "    </tr>\n",
       "    <tr>\n",
       "      <th>3</th>\n",
       "      <td>58</td>\n",
       "      <td>315000</td>\n",
       "      <td>1910</td>\n",
       "      <td>0</td>\n",
       "    </tr>\n",
       "    <tr>\n",
       "      <th>4</th>\n",
       "      <td>63</td>\n",
       "      <td>200000</td>\n",
       "      <td>1906</td>\n",
       "      <td>0</td>\n",
       "    </tr>\n",
       "  </tbody>\n",
       "</table>\n",
       "</div>"
      ],
      "text/plain": [
       "   area   price  year_built  property_type_house\n",
       "0   108  510000        1906                    0\n",
       "1    47  215000        1938                    0\n",
       "2   116  325000        2003                    0\n",
       "3    58  315000        1910                    0\n",
       "4    63  200000        1906                    0"
      ]
     },
     "execution_count": 9,
     "metadata": {},
     "output_type": "execute_result"
    }
   ],
   "source": [
    "df = pd.get_dummies(df_sub,columns=['property_type'],drop_first= True)\n",
    "df.head()"
   ]
  },
  {
   "cell_type": "markdown",
   "metadata": {},
   "source": [
    "## Simple linear regression ##"
   ]
  },
  {
   "cell_type": "markdown",
   "metadata": {},
   "source": [
    "First we will split the data in a training set and test set"
   ]
  },
  {
   "cell_type": "code",
   "execution_count": 6,
   "metadata": {},
   "outputs": [],
   "source": [
    "x = df.loc[:, ~df.columns.isin(['price'])]\n",
    "y = df['price']\n",
    "\n",
    "x_train, x_test, y_train, y_test = train_test_split(x, y, test_size = 0.3,random_state=23) #splits the data into train (70%) and test (30%) data"
   ]
  },
  {
   "cell_type": "markdown",
   "metadata": {},
   "source": [
    "3. Now we will fit the model again but this time only for the training data. You can use x_train and y_train instead of x and y"
   ]
  },
  {
   "cell_type": "code",
   "execution_count": null,
   "metadata": {},
   "outputs": [],
   "source": [
    "x_train = df.loc\n",
    "y_train = df"
   ]
  },
  {
   "cell_type": "markdown",
   "metadata": {},
   "source": [
    "4. Now let's calculate the predictions for the test data only (add it to a variable y_test_p). The test data was never used in training, so for the model this is completely new data."
   ]
  },
  {
   "cell_type": "code",
   "execution_count": null,
   "metadata": {},
   "outputs": [],
   "source": [
    "y_test_p = lm.predict(x_test)"
   ]
  },
  {
   "cell_type": "markdown",
   "metadata": {},
   "source": [
    "5. Finally calculate the R^2 and RMSE, *using the test data*. Again, the test data was never used in training, so for the model this is completely new data. The model doesn't have the advantage of being trained on the data already. So it's a fair test for the model."
   ]
  },
  {
   "cell_type": "raw",
   "metadata": {},
   "source": [
    "r2_score(y_test, y_test_p)"
   ]
  }
 ],
 "metadata": {
  "kernelspec": {
   "display_name": "Python 3",
   "language": "python",
   "name": "python3"
  },
  "language_info": {
   "codemirror_mode": {
    "name": "ipython",
    "version": 3
   },
   "file_extension": ".py",
   "mimetype": "text/x-python",
   "name": "python",
   "nbconvert_exporter": "python",
   "pygments_lexer": "ipython3",
   "version": "3.8.8"
  }
 },
 "nbformat": 4,
 "nbformat_minor": 4
}
