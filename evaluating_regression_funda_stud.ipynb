{
 "cells": [
  {
   "cell_type": "markdown",
   "metadata": {},
   "source": [
    "# Evaluating regression #\n",
    "\n",
    "Let's have a look at how to evaluate our linear model."
   ]
  },
  {
   "cell_type": "code",
   "execution_count": 5,
   "metadata": {
    "scrolled": true
   },
   "outputs": [],
   "source": [
    "import seaborn as sns\n",
    "import sklearn as sk\n",
    "import pandas as pd\n",
    "import matplotlib.pyplot as plt\n",
    "import math\n",
    "from sklearn.linear_model import LinearRegression #remember, this is linear regression model from sk-learn\n",
    "from sklearn.metrics import mean_squared_error\n",
    "from sklearn.metrics import r2_score"
   ]
  },
  {
   "cell_type": "code",
   "execution_count": 6,
   "metadata": {},
   "outputs": [
    {
     "data": {
      "text/html": [
       "<div>\n",
       "<style scoped>\n",
       "    .dataframe tbody tr th:only-of-type {\n",
       "        vertical-align: middle;\n",
       "    }\n",
       "\n",
       "    .dataframe tbody tr th {\n",
       "        vertical-align: top;\n",
       "    }\n",
       "\n",
       "    .dataframe thead th {\n",
       "        text-align: right;\n",
       "    }\n",
       "</style>\n",
       "<table border=\"1\" class=\"dataframe\">\n",
       "  <thead>\n",
       "    <tr style=\"text-align: right;\">\n",
       "      <th></th>\n",
       "      <th>id</th>\n",
       "      <th>address</th>\n",
       "      <th>area</th>\n",
       "      <th>bedrooms</th>\n",
       "      <th>postal_code</th>\n",
       "      <th>posting_date</th>\n",
       "      <th>price</th>\n",
       "      <th>property_type</th>\n",
       "      <th>rooms</th>\n",
       "      <th>sale_date</th>\n",
       "      <th>url</th>\n",
       "      <th>year_built</th>\n",
       "    </tr>\n",
       "  </thead>\n",
       "  <tbody>\n",
       "    <tr>\n",
       "      <th>0</th>\n",
       "      <td>0</td>\n",
       "      <td>Knollendamstraat 4 III/IV</td>\n",
       "      <td>108</td>\n",
       "      <td>2</td>\n",
       "      <td>1013 TN</td>\n",
       "      <td>4-6-2016</td>\n",
       "      <td>510000</td>\n",
       "      <td>apartment</td>\n",
       "      <td>3</td>\n",
       "      <td>23-6-2016</td>\n",
       "      <td>http://www.funda.nl/koop/verkocht/amsterdam/ap...</td>\n",
       "      <td>1906</td>\n",
       "    </tr>\n",
       "    <tr>\n",
       "      <th>1</th>\n",
       "      <td>1</td>\n",
       "      <td>Moerdijkstraat 47 1</td>\n",
       "      <td>47</td>\n",
       "      <td>1</td>\n",
       "      <td>1079 XM</td>\n",
       "      <td>22-6-2016</td>\n",
       "      <td>215000</td>\n",
       "      <td>apartment</td>\n",
       "      <td>2</td>\n",
       "      <td>5-7-2016</td>\n",
       "      <td>http://www.funda.nl/koop/verkocht/amsterdam/ap...</td>\n",
       "      <td>1938</td>\n",
       "    </tr>\n",
       "    <tr>\n",
       "      <th>2</th>\n",
       "      <td>2</td>\n",
       "      <td>Zeeburgerdijk 349</td>\n",
       "      <td>116</td>\n",
       "      <td>2</td>\n",
       "      <td>1095 AD</td>\n",
       "      <td>9-6-2016</td>\n",
       "      <td>325000</td>\n",
       "      <td>apartment</td>\n",
       "      <td>3</td>\n",
       "      <td>8-7-2016</td>\n",
       "      <td>http://www.funda.nl/koop/verkocht/amsterdam/ap...</td>\n",
       "      <td>2003</td>\n",
       "    </tr>\n",
       "    <tr>\n",
       "      <th>3</th>\n",
       "      <td>3</td>\n",
       "      <td>Brederodestraat 124 -1</td>\n",
       "      <td>58</td>\n",
       "      <td>2</td>\n",
       "      <td>1054 VH</td>\n",
       "      <td>14-5-2016</td>\n",
       "      <td>315000</td>\n",
       "      <td>apartment</td>\n",
       "      <td>3</td>\n",
       "      <td>2-6-2016</td>\n",
       "      <td>http://www.funda.nl/koop/verkocht/amsterdam/ap...</td>\n",
       "      <td>1910</td>\n",
       "    </tr>\n",
       "    <tr>\n",
       "      <th>4</th>\n",
       "      <td>4</td>\n",
       "      <td>Admiraal De Ruijterweg 409 III</td>\n",
       "      <td>63</td>\n",
       "      <td>1</td>\n",
       "      <td>1055 MD</td>\n",
       "      <td>14-6-2016</td>\n",
       "      <td>200000</td>\n",
       "      <td>apartment</td>\n",
       "      <td>3</td>\n",
       "      <td>23-6-2016</td>\n",
       "      <td>http://www.funda.nl/koop/verkocht/amsterdam/ap...</td>\n",
       "      <td>1906</td>\n",
       "    </tr>\n",
       "  </tbody>\n",
       "</table>\n",
       "</div>"
      ],
      "text/plain": [
       "   id                         address  area  bedrooms postal_code  \\\n",
       "0   0       Knollendamstraat 4 III/IV   108         2     1013 TN   \n",
       "1   1             Moerdijkstraat 47 1    47         1     1079 XM   \n",
       "2   2               Zeeburgerdijk 349   116         2     1095 AD   \n",
       "3   3          Brederodestraat 124 -1    58         2     1054 VH   \n",
       "4   4  Admiraal De Ruijterweg 409 III    63         1     1055 MD   \n",
       "\n",
       "  posting_date   price property_type  rooms  sale_date  \\\n",
       "0     4-6-2016  510000     apartment      3  23-6-2016   \n",
       "1    22-6-2016  215000     apartment      2   5-7-2016   \n",
       "2     9-6-2016  325000     apartment      3   8-7-2016   \n",
       "3    14-5-2016  315000     apartment      3   2-6-2016   \n",
       "4    14-6-2016  200000     apartment      3  23-6-2016   \n",
       "\n",
       "                                                 url  year_built  \n",
       "0  http://www.funda.nl/koop/verkocht/amsterdam/ap...        1906  \n",
       "1  http://www.funda.nl/koop/verkocht/amsterdam/ap...        1938  \n",
       "2  http://www.funda.nl/koop/verkocht/amsterdam/ap...        2003  \n",
       "3  http://www.funda.nl/koop/verkocht/amsterdam/ap...        1910  \n",
       "4  http://www.funda.nl/koop/verkocht/amsterdam/ap...        1906  "
      ]
     },
     "execution_count": 6,
     "metadata": {},
     "output_type": "execute_result"
    }
   ],
   "source": [
    "df = pd.read_csv('funda.csv')\n",
    "df.head()"
   ]
  },
  {
   "cell_type": "markdown",
   "metadata": {},
   "source": [
    "We need to remove the strange values again, keep only:\n",
    "\n",
    "* Price above 30,000\n",
    "* Area above 10 m2"
   ]
  },
  {
   "cell_type": "code",
   "execution_count": 7,
   "metadata": {},
   "outputs": [],
   "source": [
    "df = df[(df['price'] > 30000) & (df['area'] > 10)] #we want to subset the original dataset, otherwise we lose data"
   ]
  },
  {
   "cell_type": "markdown",
   "metadata": {},
   "source": [
    "## Simple linear regression ##"
   ]
  },
  {
   "cell_type": "code",
   "execution_count": 8,
   "metadata": {
    "scrolled": true
   },
   "outputs": [
    {
     "name": "stdout",
     "output_type": "stream",
     "text": [
      "The regression line is equal to y = 27983.93 + 3498.81X\n"
     ]
    }
   ],
   "source": [
    "from sklearn.linear_model import LinearRegression #we need this specific model from sk-learn\n",
    "\n",
    "x = df[['area']] #to use sk-learn, we need to create lists of the two variables\n",
    "y = df['price']\n",
    "\n",
    "lm = LinearRegression() #this creates a new LR model\n",
    "lm.fit(x, y) #this \"fits\" the model\n",
    "\n",
    "b0 = lm.intercept_ #lm.coef_ gets a list of coefficients (excluding the intercept). [0] gets the actual number from the list\n",
    "b1 = lm.coef_[0] #gets the intercept\n",
    "\n",
    "print(f\"The regression line is equal to y = {b0:.2f} + {b1:.2f}X\") #.0f formats to 2 decimals."
   ]
  },
  {
   "cell_type": "markdown",
   "metadata": {},
   "source": [
    "Or, in Markdown: \n",
    "\n",
    "$y= 27983.93 + 3498.81x$\n",
    "\n",
    "where *x* is price in euros and *y* is area in squared meters"
   ]
  },
  {
   "cell_type": "code",
   "execution_count": 9,
   "metadata": {},
   "outputs": [
    {
     "data": {
      "text/html": [
       "<div>\n",
       "<style scoped>\n",
       "    .dataframe tbody tr th:only-of-type {\n",
       "        vertical-align: middle;\n",
       "    }\n",
       "\n",
       "    .dataframe tbody tr th {\n",
       "        vertical-align: top;\n",
       "    }\n",
       "\n",
       "    .dataframe thead th {\n",
       "        text-align: right;\n",
       "    }\n",
       "</style>\n",
       "<table border=\"1\" class=\"dataframe\">\n",
       "  <thead>\n",
       "    <tr style=\"text-align: right;\">\n",
       "      <th></th>\n",
       "      <th>id</th>\n",
       "      <th>address</th>\n",
       "      <th>area</th>\n",
       "      <th>bedrooms</th>\n",
       "      <th>postal_code</th>\n",
       "      <th>posting_date</th>\n",
       "      <th>price</th>\n",
       "      <th>property_type</th>\n",
       "      <th>rooms</th>\n",
       "      <th>sale_date</th>\n",
       "      <th>url</th>\n",
       "      <th>year_built</th>\n",
       "      <th>price_p</th>\n",
       "    </tr>\n",
       "  </thead>\n",
       "  <tbody>\n",
       "    <tr>\n",
       "      <th>0</th>\n",
       "      <td>0</td>\n",
       "      <td>Knollendamstraat 4 III/IV</td>\n",
       "      <td>108</td>\n",
       "      <td>2</td>\n",
       "      <td>1013 TN</td>\n",
       "      <td>4-6-2016</td>\n",
       "      <td>510000</td>\n",
       "      <td>apartment</td>\n",
       "      <td>3</td>\n",
       "      <td>23-6-2016</td>\n",
       "      <td>http://www.funda.nl/koop/verkocht/amsterdam/ap...</td>\n",
       "      <td>1906</td>\n",
       "      <td>405855.880756</td>\n",
       "    </tr>\n",
       "    <tr>\n",
       "      <th>1</th>\n",
       "      <td>1</td>\n",
       "      <td>Moerdijkstraat 47 1</td>\n",
       "      <td>47</td>\n",
       "      <td>1</td>\n",
       "      <td>1079 XM</td>\n",
       "      <td>22-6-2016</td>\n",
       "      <td>215000</td>\n",
       "      <td>apartment</td>\n",
       "      <td>2</td>\n",
       "      <td>5-7-2016</td>\n",
       "      <td>http://www.funda.nl/koop/verkocht/amsterdam/ap...</td>\n",
       "      <td>1938</td>\n",
       "      <td>192428.204791</td>\n",
       "    </tr>\n",
       "    <tr>\n",
       "      <th>2</th>\n",
       "      <td>2</td>\n",
       "      <td>Zeeburgerdijk 349</td>\n",
       "      <td>116</td>\n",
       "      <td>2</td>\n",
       "      <td>1095 AD</td>\n",
       "      <td>9-6-2016</td>\n",
       "      <td>325000</td>\n",
       "      <td>apartment</td>\n",
       "      <td>3</td>\n",
       "      <td>8-7-2016</td>\n",
       "      <td>http://www.funda.nl/koop/verkocht/amsterdam/ap...</td>\n",
       "      <td>2003</td>\n",
       "      <td>433846.395637</td>\n",
       "    </tr>\n",
       "    <tr>\n",
       "      <th>3</th>\n",
       "      <td>3</td>\n",
       "      <td>Brederodestraat 124 -1</td>\n",
       "      <td>58</td>\n",
       "      <td>2</td>\n",
       "      <td>1054 VH</td>\n",
       "      <td>14-5-2016</td>\n",
       "      <td>315000</td>\n",
       "      <td>apartment</td>\n",
       "      <td>3</td>\n",
       "      <td>2-6-2016</td>\n",
       "      <td>http://www.funda.nl/koop/verkocht/amsterdam/ap...</td>\n",
       "      <td>1910</td>\n",
       "      <td>230915.162752</td>\n",
       "    </tr>\n",
       "    <tr>\n",
       "      <th>4</th>\n",
       "      <td>4</td>\n",
       "      <td>Admiraal De Ruijterweg 409 III</td>\n",
       "      <td>63</td>\n",
       "      <td>1</td>\n",
       "      <td>1055 MD</td>\n",
       "      <td>14-6-2016</td>\n",
       "      <td>200000</td>\n",
       "      <td>apartment</td>\n",
       "      <td>3</td>\n",
       "      <td>23-6-2016</td>\n",
       "      <td>http://www.funda.nl/koop/verkocht/amsterdam/ap...</td>\n",
       "      <td>1906</td>\n",
       "      <td>248409.234552</td>\n",
       "    </tr>\n",
       "  </tbody>\n",
       "</table>\n",
       "</div>"
      ],
      "text/plain": [
       "   id                         address  area  bedrooms postal_code  \\\n",
       "0   0       Knollendamstraat 4 III/IV   108         2     1013 TN   \n",
       "1   1             Moerdijkstraat 47 1    47         1     1079 XM   \n",
       "2   2               Zeeburgerdijk 349   116         2     1095 AD   \n",
       "3   3          Brederodestraat 124 -1    58         2     1054 VH   \n",
       "4   4  Admiraal De Ruijterweg 409 III    63         1     1055 MD   \n",
       "\n",
       "  posting_date   price property_type  rooms  sale_date  \\\n",
       "0     4-6-2016  510000     apartment      3  23-6-2016   \n",
       "1    22-6-2016  215000     apartment      2   5-7-2016   \n",
       "2     9-6-2016  325000     apartment      3   8-7-2016   \n",
       "3    14-5-2016  315000     apartment      3   2-6-2016   \n",
       "4    14-6-2016  200000     apartment      3  23-6-2016   \n",
       "\n",
       "                                                 url  year_built  \\\n",
       "0  http://www.funda.nl/koop/verkocht/amsterdam/ap...        1906   \n",
       "1  http://www.funda.nl/koop/verkocht/amsterdam/ap...        1938   \n",
       "2  http://www.funda.nl/koop/verkocht/amsterdam/ap...        2003   \n",
       "3  http://www.funda.nl/koop/verkocht/amsterdam/ap...        1910   \n",
       "4  http://www.funda.nl/koop/verkocht/amsterdam/ap...        1906   \n",
       "\n",
       "         price_p  \n",
       "0  405855.880756  \n",
       "1  192428.204791  \n",
       "2  433846.395637  \n",
       "3  230915.162752  \n",
       "4  248409.234552  "
      ]
     },
     "execution_count": 9,
     "metadata": {},
     "output_type": "execute_result"
    }
   ],
   "source": [
    "df['price_p'] = lm.predict(x) #use built-in predict() method to generate predictions; store in original dataframe\n",
    "df.head()\n"
   ]
  },
  {
   "cell_type": "markdown",
   "metadata": {},
   "source": [
    "Now add the residuals for all houses to the dataframe:"
   ]
  },
  {
   "cell_type": "code",
   "execution_count": 10,
   "metadata": {},
   "outputs": [
    {
     "data": {
      "text/html": [
       "<div>\n",
       "<style scoped>\n",
       "    .dataframe tbody tr th:only-of-type {\n",
       "        vertical-align: middle;\n",
       "    }\n",
       "\n",
       "    .dataframe tbody tr th {\n",
       "        vertical-align: top;\n",
       "    }\n",
       "\n",
       "    .dataframe thead th {\n",
       "        text-align: right;\n",
       "    }\n",
       "</style>\n",
       "<table border=\"1\" class=\"dataframe\">\n",
       "  <thead>\n",
       "    <tr style=\"text-align: right;\">\n",
       "      <th></th>\n",
       "      <th>id</th>\n",
       "      <th>address</th>\n",
       "      <th>area</th>\n",
       "      <th>bedrooms</th>\n",
       "      <th>postal_code</th>\n",
       "      <th>posting_date</th>\n",
       "      <th>price</th>\n",
       "      <th>property_type</th>\n",
       "      <th>rooms</th>\n",
       "      <th>sale_date</th>\n",
       "      <th>url</th>\n",
       "      <th>year_built</th>\n",
       "      <th>price_p</th>\n",
       "      <th>resid</th>\n",
       "    </tr>\n",
       "  </thead>\n",
       "  <tbody>\n",
       "    <tr>\n",
       "      <th>0</th>\n",
       "      <td>0</td>\n",
       "      <td>Knollendamstraat 4 III/IV</td>\n",
       "      <td>108</td>\n",
       "      <td>2</td>\n",
       "      <td>1013 TN</td>\n",
       "      <td>4-6-2016</td>\n",
       "      <td>510000</td>\n",
       "      <td>apartment</td>\n",
       "      <td>3</td>\n",
       "      <td>23-6-2016</td>\n",
       "      <td>http://www.funda.nl/koop/verkocht/amsterdam/ap...</td>\n",
       "      <td>1906</td>\n",
       "      <td>405855.880756</td>\n",
       "      <td>104144.119244</td>\n",
       "    </tr>\n",
       "    <tr>\n",
       "      <th>1</th>\n",
       "      <td>1</td>\n",
       "      <td>Moerdijkstraat 47 1</td>\n",
       "      <td>47</td>\n",
       "      <td>1</td>\n",
       "      <td>1079 XM</td>\n",
       "      <td>22-6-2016</td>\n",
       "      <td>215000</td>\n",
       "      <td>apartment</td>\n",
       "      <td>2</td>\n",
       "      <td>5-7-2016</td>\n",
       "      <td>http://www.funda.nl/koop/verkocht/amsterdam/ap...</td>\n",
       "      <td>1938</td>\n",
       "      <td>192428.204791</td>\n",
       "      <td>22571.795209</td>\n",
       "    </tr>\n",
       "    <tr>\n",
       "      <th>2</th>\n",
       "      <td>2</td>\n",
       "      <td>Zeeburgerdijk 349</td>\n",
       "      <td>116</td>\n",
       "      <td>2</td>\n",
       "      <td>1095 AD</td>\n",
       "      <td>9-6-2016</td>\n",
       "      <td>325000</td>\n",
       "      <td>apartment</td>\n",
       "      <td>3</td>\n",
       "      <td>8-7-2016</td>\n",
       "      <td>http://www.funda.nl/koop/verkocht/amsterdam/ap...</td>\n",
       "      <td>2003</td>\n",
       "      <td>433846.395637</td>\n",
       "      <td>-108846.395637</td>\n",
       "    </tr>\n",
       "    <tr>\n",
       "      <th>3</th>\n",
       "      <td>3</td>\n",
       "      <td>Brederodestraat 124 -1</td>\n",
       "      <td>58</td>\n",
       "      <td>2</td>\n",
       "      <td>1054 VH</td>\n",
       "      <td>14-5-2016</td>\n",
       "      <td>315000</td>\n",
       "      <td>apartment</td>\n",
       "      <td>3</td>\n",
       "      <td>2-6-2016</td>\n",
       "      <td>http://www.funda.nl/koop/verkocht/amsterdam/ap...</td>\n",
       "      <td>1910</td>\n",
       "      <td>230915.162752</td>\n",
       "      <td>84084.837248</td>\n",
       "    </tr>\n",
       "    <tr>\n",
       "      <th>4</th>\n",
       "      <td>4</td>\n",
       "      <td>Admiraal De Ruijterweg 409 III</td>\n",
       "      <td>63</td>\n",
       "      <td>1</td>\n",
       "      <td>1055 MD</td>\n",
       "      <td>14-6-2016</td>\n",
       "      <td>200000</td>\n",
       "      <td>apartment</td>\n",
       "      <td>3</td>\n",
       "      <td>23-6-2016</td>\n",
       "      <td>http://www.funda.nl/koop/verkocht/amsterdam/ap...</td>\n",
       "      <td>1906</td>\n",
       "      <td>248409.234552</td>\n",
       "      <td>-48409.234552</td>\n",
       "    </tr>\n",
       "  </tbody>\n",
       "</table>\n",
       "</div>"
      ],
      "text/plain": [
       "   id                         address  area  bedrooms postal_code  \\\n",
       "0   0       Knollendamstraat 4 III/IV   108         2     1013 TN   \n",
       "1   1             Moerdijkstraat 47 1    47         1     1079 XM   \n",
       "2   2               Zeeburgerdijk 349   116         2     1095 AD   \n",
       "3   3          Brederodestraat 124 -1    58         2     1054 VH   \n",
       "4   4  Admiraal De Ruijterweg 409 III    63         1     1055 MD   \n",
       "\n",
       "  posting_date   price property_type  rooms  sale_date  \\\n",
       "0     4-6-2016  510000     apartment      3  23-6-2016   \n",
       "1    22-6-2016  215000     apartment      2   5-7-2016   \n",
       "2     9-6-2016  325000     apartment      3   8-7-2016   \n",
       "3    14-5-2016  315000     apartment      3   2-6-2016   \n",
       "4    14-6-2016  200000     apartment      3  23-6-2016   \n",
       "\n",
       "                                                 url  year_built  \\\n",
       "0  http://www.funda.nl/koop/verkocht/amsterdam/ap...        1906   \n",
       "1  http://www.funda.nl/koop/verkocht/amsterdam/ap...        1938   \n",
       "2  http://www.funda.nl/koop/verkocht/amsterdam/ap...        2003   \n",
       "3  http://www.funda.nl/koop/verkocht/amsterdam/ap...        1910   \n",
       "4  http://www.funda.nl/koop/verkocht/amsterdam/ap...        1906   \n",
       "\n",
       "         price_p          resid  \n",
       "0  405855.880756  104144.119244  \n",
       "1  192428.204791   22571.795209  \n",
       "2  433846.395637 -108846.395637  \n",
       "3  230915.162752   84084.837248  \n",
       "4  248409.234552  -48409.234552  "
      ]
     },
     "execution_count": 10,
     "metadata": {},
     "output_type": "execute_result"
    }
   ],
   "source": [
    "df[\"resid\"] = df[\"price\"] - df[\"price_p\"]\n",
    "df.head()"
   ]
  },
  {
   "cell_type": "markdown",
   "metadata": {},
   "source": [
    "## Evaluating the model ##"
   ]
  },
  {
   "cell_type": "markdown",
   "metadata": {},
   "source": [
    "1. Plot the price versus the predicted price in a scatterplot"
   ]
  },
  {
   "cell_type": "code",
   "execution_count": 14,
   "metadata": {},
   "outputs": [
    {
     "data": {
      "image/png": "[encoded data removed]",
      "text/plain": [
       "<Figure size 432x288 with 1 Axes>"
      ]
     },
     "metadata": {
      "needs_background": "light"
     },
     "output_type": "display_data"
    }
   ],
   "source": [
    "sns.scatterplot(x='price', y='price_p', data=df)\n",
    "plt.xlim(0, 1400000) #This sets the x-axis limits \n",
    "plt.ylim(0, 1400000)\n",
    "plt.plot([0, 1, 5e6], color='red', lw=2)\n",
    "plt.xlabel(\"price\")\n",
    "plt.ylabel(\"price(predicted)\")\n",
    "plt.show()"
   ]
  },
  {
   "cell_type": "markdown",
   "metadata": {},
   "source": [
    "2. Plot the area versus the residuals in a scatterplot"
   ]
  },
  {
   "cell_type": "code",
   "execution_count": 15,
   "metadata": {},
   "outputs": [
    {
     "data": {
      "image/png": "[encoded data removed]",
      "text/plain": [
       "<Figure size 432x288 with 1 Axes>"
      ]
     },
     "metadata": {
      "needs_background": "light"
     },
     "output_type": "display_data"
    }
   ],
   "source": [
    "sns.scatterplot(x=\"area\", y=\"resid\", data=df)\n",
    "plt.xlabel(\"Area (m2)\")\n",
    "plt.ylabel(\"Residuals (euros)\")\n",
    "plt.show()"
   ]
  },
  {
   "cell_type": "markdown",
   "metadata": {},
   "source": [
    "3. finally we are going to calculate the r2 squared and RMSE. Run the code below and write down your conclusions"
   ]
  },
  {
   "cell_type": "code",
   "execution_count": 16,
   "metadata": {},
   "outputs": [
    {
     "data": {
      "text/plain": [
       "0.5257421182315432"
      ]
     },
     "execution_count": 16,
     "metadata": {},
     "output_type": "execute_result"
    }
   ],
   "source": [
    "r2_score(df['price'], df['price_p'])"
   ]
  },
  {
   "cell_type": "code",
   "execution_count": 17,
   "metadata": {},
   "outputs": [
    {
     "data": {
      "text/plain": [
       "118016.87861535022"
      ]
     },
     "execution_count": 17,
     "metadata": {},
     "output_type": "execute_result"
    }
   ],
   "source": [
    "math.sqrt(mean_squared_error(df['price'], df['price_p'])) #this gives the model fit (R2) for the Y and predicted Y"
   ]
  },
  {
   "cell_type": "markdown",
   "metadata": {},
   "source": [
    "### Conclusions:"
   ]
  },
  {
   "cell_type": "markdown",
   "metadata": {},
   "source": [
    "# Based on the R^2, we can predict 52.5% of the variation price based on area. Our typical prediction is off by 118017 euros. As we can see in the Y-Y' plot and the residual plot, the errors increase with area."
   ]
  },
  {
   "cell_type": "code",
   "execution_count": null,
   "metadata": {},
   "outputs": [],
   "source": []
  }
 ],
 "metadata": {
  "kernelspec": {
   "display_name": "Python 3",
   "language": "python",
   "name": "python3"
  },
  "language_info": {
   "codemirror_mode": {
    "name": "ipython",
    "version": 3
   },
   "file_extension": ".py",
   "mimetype": "text/x-python",
   "name": "python",
   "nbconvert_exporter": "python",
   "pygments_lexer": "ipython3",
   "version": "3.8.8"
  }
 },
 "nbformat": 4,
 "nbformat_minor": 4
}
